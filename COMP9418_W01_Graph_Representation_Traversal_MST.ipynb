{
  "nbformat": 4,
  "nbformat_minor": 0,
  "metadata": {
    "interpreter": {
      "hash": "31f2aee4e71d21fbe5cf8b01ff0e069b9275f58929596ceb00d14d90e3e16cd6"
    },
    "kernelspec": {
      "display_name": "Python 3",
      "language": "python",
      "name": "python3"
    },
    "language_info": {
      "codemirror_mode": {
        "name": "ipython",
        "version": 3
      },
      "file_extension": ".py",
      "mimetype": "text/x-python",
      "name": "python",
      "nbconvert_exporter": "python",
      "pygments_lexer": "ipython3",
      "version": "3.8.10"
    },
    "toc": {
      "colors": {
        "hover_highlight": "#DAA520",
        "navigate_num": "#000000",
        "navigate_text": "#333333",
        "running_highlight": "#FF0000",
        "selected_highlight": "#FFD700",
        "sidebar_border": "#EEEEEE",
        "wrapper_background": "#FFFFFF"
      },
      "moveMenuLeft": true,
      "nav_menu": {
        "height": "198px",
        "width": "252px"
      },
      "navigate_menu": true,
      "number_sections": true,
      "sideBar": true,
      "threshold": 4,
      "toc_cell": false,
      "toc_position": {
        "height": "625px",
        "left": "0px",
        "right": "1067.67px",
        "top": "107px",
        "width": "212px"
      },
      "toc_section_display": "block",
      "toc_window_display": true,
      "widenNotebook": false
    },
    "colab": {
      "name": "COMP9418_W01_Graph_Representation_Traversal_MST.ipynb",
      "provenance": []
    }
  },
  "cells": [
    {
      "cell_type": "markdown",
      "metadata": {
        "id": "GZHd0ptBw5af"
      },
      "source": [
        "[![Open In Colab](https://colab.research.google.com/assets/colab-badge.svg)](https://colab.research.google.com/github/UNSW-COMP9418/Week01/blob/main/COMP9418_W01_Graph_Representation_Traversal_MST.ipynb)\n",
        "\n",
        "# Graph Representation, Traversal and MST\n",
        "\n",
        "**COMP9418-21T3, W01 Tutorial**\n",
        "\n",
        "- Instructor: Gustavo Batista\n",
        "- School of Computer Science and Engineering, UNSW Sydney\n",
        "- Notebook designed by Gustavo Batista and Jeremy Gillen\n",
        "- Last Update 18th August 2021"
      ]
    },
    {
      "cell_type": "markdown",
      "metadata": {
        "id": "L28p9oVYw5ai"
      },
      "source": [
        "In this week's tutorial, we will review some concepts an algorithms for graph representation, traversal and Minimum Spanning Trees (MST) that will be useful during the course.\n",
        "\n",
        "## Technical prerequisites\n",
        "\n",
        "We will use Jupyter Notebooks in the practical part of the tutorials. There are three main ways to run these notebooks:\n",
        "\n",
        "1. *Google Colab*. The links available in WebCMS will open the course notebooks in [Google Colab](https://colab.research.google.com/). Google Colab has all the packages necessary to run these notebooks, so no installation is required. **This is our prefered approach**.\n",
        "\n",
        "2. *CSE VLAB*. We have installed the necessary packages in the CSE computers. You have to copy the notebook to your CSE account in VLAB to execute them. There are two possibilities to access VLAB. The most recommended is installing a [VNC software](https://taggi.cse.unsw.edu.au/FAQ/Really_quick_guide_to_VLAB/) in your computer. Alternatively, you can access these computers through a web interface using [CSE VLAB Gateway](https://vlabgateway.cse.unsw.edu.au/).\n",
        "\n",
        "3. *Your computer*. If you do not have Jupyter installed in your computer, we recommend installing [Anaconda](https://www.anaconda.com/distribution). Anaconda conveniently installs Python, the Jupyter Notebook, and other commonly used packages for scientific computing and data science. To render a graphical visualization of some graphs in this notebook, you also need to [install Graphviz](http://www.graphviz.org/download). If you have conda installed in your computer, you can try the command ```conda install python-graphviz``` directly. From our experience, Graphviz is a little troublesome to install in some systems. For instance, ```conda install python-graphviz``` often does not work on Linux systems and we did not have any success using ```pip3 install graphviz``` on most systems, so do *not* use ```pip3```.\n",
        "\n",
        "Once we have done all that, we import Graphviz, and heapq modules for later use."
      ]
    },
    {
      "cell_type": "code",
      "metadata": {
        "scrolled": true,
        "id": "vilnSzFhw5aj"
      },
      "source": [
        "# Visualise our graph\n",
        "import graphviz\n",
        "# Priority queue for Prim algorithm\n",
        "import heapq as pq"
      ],
      "execution_count": 2,
      "outputs": []
    },
    {
      "cell_type": "markdown",
      "metadata": {
        "id": "xYQfira3w5al"
      },
      "source": [
        "## Representing graphs\n",
        "\n",
        "We will not use any particular library for representing graphs in Python. Instead, we will represent a graph structure as a dictionary whose keys are the nodes of the graph. For each key, the corresponding value is a list. The list contains the nodes that are directly connected to this node.\n",
        "\n",
        "For instance, the following graph:\n",
        "\n",
        "![Graph example](img/example_graph.png \"Graph example\")\n",
        "\n",
        "can be represented as\n",
        "\n",
        "```\n",
        "graph = {\n",
        "    0: [2],\n",
        "    1: [0],\n",
        "    2: [1],\n",
        "    3: [1, 2],\n",
        "}\n",
        "```\n",
        "\n",
        "This representation is an adjacency list. If you'd like to read more about this style of graphs, there is more\n",
        "[information on the python website](https://www.python.org/doc/essays/graphs/)."
      ]
    },
    {
      "cell_type": "markdown",
      "metadata": {
        "id": "jIscE_F8w5am"
      },
      "source": [
        "### Exercise\n",
        "\n",
        "Now, it is your turn. Represent the following directed graph using the suggested adjacency list representation.\n",
        "\n",
        "![Graph exercise](img/exercise_graph.png \"Graph exercise\")"
      ]
    },
    {
      "cell_type": "code",
      "metadata": {
        "id": "qI3kXA4Sw5am"
      },
      "source": [
        "graph = {\n",
        "    0: [3],\n",
        "    1: [0, 4],\n",
        "    2: [1, 4],\n",
        "    3: [1],\n",
        "    4: [3],\n",
        "    5: [2,4],\n",
        "}"
      ],
      "execution_count": 3,
      "outputs": []
    },
    {
      "cell_type": "markdown",
      "metadata": {
        "id": "HOZDUAGew5an"
      },
      "source": [
        "## Graphviz\n",
        "\n",
        "We can use the Graphviz library to inspect our graphs visually. \n",
        "\n",
        "The following code will convert your digraph to a Graphviz object and render it."
      ]
    },
    {
      "cell_type": "code",
      "metadata": {
        "colab": {
          "base_uri": "https://localhost:8080/",
          "height": 338
        },
        "id": "kaDnQItCw5ao",
        "outputId": "85ce1fe6-7fa9-4c9f-a752-fc20e53eac24"
      },
      "source": [
        "dot = graphviz.Digraph(engine=\"neato\", comment='Direct graph example')\n",
        "dot.attr(overlap=\"false\", splines=\"true\")\n",
        "\n",
        "# List of positions for each node\n",
        "# We use node positions to replicate the previous figure\n",
        "# This can be removed if the nodes do not need to be presented in a specific order\n",
        "pos = {\n",
        "    0: '0,1!',\n",
        "    1: '1,1!',\n",
        "    2: '2,1!',\n",
        "    3: '0,0!',\n",
        "    4: '1,0!',\n",
        "    5: '2,0!',\n",
        "}\n",
        "\n",
        "for v in graph.keys():\n",
        "    # dot.node(str(v), pos=pos[v])\n",
        "    dot.node(str(v))              # Use this line instead of the previous one to position the nodes in random order\n",
        "\n",
        "for v in graph.keys():\n",
        "    for w in graph[v]:\n",
        "        dot.edge(str(v), str(w))\n",
        "\n",
        "dot"
      ],
      "execution_count": 6,
      "outputs": [
        {
          "output_type": "execute_result",
          "data": {
            "text/plain": [
              "<graphviz.dot.Digraph at 0x7f937827a510>"
            ],
            "image/svg+xml": "<?xml version=\"1.0\" encoding=\"UTF-8\" standalone=\"no\"?>\n<!DOCTYPE svg PUBLIC \"-//W3C//DTD SVG 1.1//EN\"\n \"http://www.w3.org/Graphics/SVG/1.1/DTD/svg11.dtd\">\n<!-- Generated by graphviz version 2.40.1 (20161225.0304)\n -->\n<!-- Title: %3 Pages: 1 -->\n<svg width=\"130pt\" height=\"238pt\"\n viewBox=\"0.00 0.00 130.23 238.42\" xmlns=\"http://www.w3.org/2000/svg\" xmlns:xlink=\"http://www.w3.org/1999/xlink\">\n<g id=\"graph0\" class=\"graph\" transform=\"scale(1 1) rotate(0) translate(4 234.4236)\">\n<title>%3</title>\n<polygon fill=\"#ffffff\" stroke=\"transparent\" points=\"-4,4 -4,-234.4236 126.2283,-234.4236 126.2283,4 -4,4\"/>\n<!-- 0 -->\n<g id=\"node1\" class=\"node\">\n<title>0</title>\n<ellipse fill=\"none\" stroke=\"#000000\" cx=\"90.4048\" cy=\"-212.4236\" rx=\"27\" ry=\"18\"/>\n<text text-anchor=\"middle\" x=\"90.4048\" y=\"-208.7236\" font-family=\"Times,serif\" font-size=\"14.00\" fill=\"#000000\">0</text>\n</g>\n<!-- 3 -->\n<g id=\"node4\" class=\"node\">\n<title>3</title>\n<ellipse fill=\"none\" stroke=\"#000000\" cx=\"27\" cy=\"-170.4661\" rx=\"27\" ry=\"18\"/>\n<text text-anchor=\"middle\" x=\"27\" y=\"-166.7661\" font-family=\"Times,serif\" font-size=\"14.00\" fill=\"#000000\">3</text>\n</g>\n<!-- 0&#45;&gt;3 -->\n<g id=\"edge1\" class=\"edge\">\n<title>0&#45;&gt;3</title>\n<path fill=\"none\" stroke=\"#000000\" d=\"M71.0367,-199.607C65.8744,-196.1909 60.1952,-192.4327 54.6809,-188.7837\"/>\n<polygon fill=\"#000000\" stroke=\"#000000\" points=\"56.5204,-185.804 46.2494,-183.2042 52.6574,-191.6416 56.5204,-185.804\"/>\n</g>\n<!-- 1 -->\n<g id=\"node2\" class=\"node\">\n<title>1</title>\n<ellipse fill=\"none\" stroke=\"#000000\" cx=\"92.2342\" cy=\"-136.8652\" rx=\"27\" ry=\"18\"/>\n<text text-anchor=\"middle\" x=\"92.2342\" y=\"-133.1652\" font-family=\"Times,serif\" font-size=\"14.00\" fill=\"#000000\">1</text>\n</g>\n<!-- 1&#45;&gt;0 -->\n<g id=\"edge2\" class=\"edge\">\n<title>1&#45;&gt;0</title>\n<path fill=\"none\" stroke=\"#000000\" d=\"M91.7914,-155.1557C91.5801,-163.8799 91.3227,-174.5133 91.0872,-184.2385\"/>\n<polygon fill=\"#000000\" stroke=\"#000000\" points=\"87.5867,-184.2196 90.8435,-194.3014 94.5847,-184.3891 87.5867,-184.2196\"/>\n</g>\n<!-- 4 -->\n<g id=\"node5\" class=\"node\">\n<title>4</title>\n<ellipse fill=\"none\" stroke=\"#000000\" cx=\"30.228\" cy=\"-93.4301\" rx=\"27\" ry=\"18\"/>\n<text text-anchor=\"middle\" x=\"30.228\" y=\"-89.7301\" font-family=\"Times,serif\" font-size=\"14.00\" fill=\"#000000\">4</text>\n</g>\n<!-- 1&#45;&gt;4 -->\n<g id=\"edge3\" class=\"edge\">\n<title>1&#45;&gt;4</title>\n<path fill=\"none\" stroke=\"#000000\" d=\"M73.2934,-123.5972C68.245,-120.0608 62.691,-116.1703 57.2984,-112.3927\"/>\n<polygon fill=\"#000000\" stroke=\"#000000\" points=\"59.2514,-109.4875 49.0529,-106.6168 55.2352,-115.2208 59.2514,-109.4875\"/>\n</g>\n<!-- 2 -->\n<g id=\"node3\" class=\"node\">\n<title>2</title>\n<ellipse fill=\"none\" stroke=\"#000000\" cx=\"95.2283\" cy=\"-59.6542\" rx=\"27\" ry=\"18\"/>\n<text text-anchor=\"middle\" x=\"95.2283\" y=\"-55.9542\" font-family=\"Times,serif\" font-size=\"14.00\" fill=\"#000000\">2</text>\n</g>\n<!-- 2&#45;&gt;1 -->\n<g id=\"edge4\" class=\"edge\">\n<title>2&#45;&gt;1</title>\n<path fill=\"none\" stroke=\"#000000\" d=\"M94.5187,-77.9521C94.1645,-87.087 93.728,-98.3425 93.3318,-108.5596\"/>\n<polygon fill=\"#000000\" stroke=\"#000000\" points=\"89.8289,-108.5704 92.9387,-118.6986 96.8236,-108.8418 89.8289,-108.5704\"/>\n</g>\n<!-- 2&#45;&gt;4 -->\n<g id=\"edge5\" class=\"edge\">\n<title>2&#45;&gt;4</title>\n<path fill=\"none\" stroke=\"#000000\" d=\"M73.5841,-70.9011C69.374,-73.0888 64.8893,-75.4192 60.461,-77.7202\"/>\n<polygon fill=\"#000000\" stroke=\"#000000\" points=\"58.8162,-74.6305 51.5565,-82.3472 62.0439,-80.842 58.8162,-74.6305\"/>\n</g>\n<!-- 3&#45;&gt;1 -->\n<g id=\"edge6\" class=\"edge\">\n<title>3&#45;&gt;1</title>\n<path fill=\"none\" stroke=\"#000000\" d=\"M48.7221,-159.2775C52.9473,-157.1011 57.4482,-154.7828 61.8924,-152.4937\"/>\n<polygon fill=\"#000000\" stroke=\"#000000\" points=\"63.5416,-155.5813 70.8289,-147.8906 60.3362,-149.3583 63.5416,-155.5813\"/>\n</g>\n<!-- 4&#45;&gt;3 -->\n<g id=\"edge7\" class=\"edge\">\n<title>4&#45;&gt;3</title>\n<path fill=\"none\" stroke=\"#000000\" d=\"M29.463,-111.6866C29.0811,-120.8007 28.6105,-132.0308 28.1834,-142.2247\"/>\n<polygon fill=\"#000000\" stroke=\"#000000\" points=\"24.6813,-142.2029 27.7595,-152.3407 31.6752,-142.496 24.6813,-142.2029\"/>\n</g>\n<!-- 5 -->\n<g id=\"node6\" class=\"node\">\n<title>5</title>\n<ellipse fill=\"none\" stroke=\"#000000\" cx=\"31.439\" cy=\"-18\" rx=\"27\" ry=\"18\"/>\n<text text-anchor=\"middle\" x=\"31.439\" y=\"-14.3\" font-family=\"Times,serif\" font-size=\"14.00\" fill=\"#000000\">5</text>\n</g>\n<!-- 5&#45;&gt;2 -->\n<g id=\"edge8\" class=\"edge\">\n<title>5&#45;&gt;2</title>\n<path fill=\"none\" stroke=\"#000000\" d=\"M50.9245,-30.724C56.1181,-34.1154 61.8318,-37.8464 67.3795,-41.469\"/>\n<polygon fill=\"#000000\" stroke=\"#000000\" points=\"65.5755,-44.4711 75.8621,-47.0082 69.4028,-38.6101 65.5755,-44.4711\"/>\n</g>\n<!-- 5&#45;&gt;4 -->\n<g id=\"edge9\" class=\"edge\">\n<title>5&#45;&gt;4</title>\n<path fill=\"none\" stroke=\"#000000\" d=\"M31.1458,-36.2595C31.006,-44.9688 30.8356,-55.5842 30.6797,-65.2929\"/>\n<polygon fill=\"#000000\" stroke=\"#000000\" points=\"27.1795,-65.2838 30.5185,-75.3387 34.1786,-65.3962 27.1795,-65.2838\"/>\n</g>\n</g>\n</svg>\n"
          },
          "metadata": {},
          "execution_count": 6
        }
      ]
    },
    {
      "cell_type": "markdown",
      "metadata": {
        "id": "TH9934nbw5ap"
      },
      "source": [
        "## Graph class\n",
        "\n",
        "To keep our code clean and put all of the graph related functions in one place,\n",
        "we can wrap this graph data structure in a class."
      ]
    },
    {
      "cell_type": "code",
      "metadata": {
        "id": "FIf0NoZKw5ap"
      },
      "source": [
        "class Graph:\n",
        "    def __init__(self, adj_list=None):\n",
        "        self.adj_list = dict()\n",
        "        if adj_list is not None:\n",
        "            self.adj_list = adj_list.copy() # dict with graph's adjacency list\n",
        "        self.colour = dict()"
      ],
      "execution_count": 7,
      "outputs": []
    },
    {
      "cell_type": "code",
      "metadata": {
        "id": "iU8hBhkZw5aq"
      },
      "source": [
        "class Graph(Graph):\n",
        "    def show(self, directed=True, positions=None):\n",
        "        \"\"\"\n",
        "        Prints a graphical visualisation of the graph usign GraphViz\n",
        "        arguments:\n",
        "            `directed`, True if the graph is directed, False if the graph is undirected\n",
        "            `pos: dictionary`, with nodes as keys and positions as values\n",
        "        return:\n",
        "            GraphViz object\n",
        "        \"\"\"\n",
        "        if directed:\n",
        "            dot = graphviz.Digraph(engine=\"neato\", comment='Directed graph')\n",
        "        else:\n",
        "            dot = graphviz.Graph(engine=\"neato\", comment='Undirected graph', strict=True)        \n",
        "        dot.attr(overlap=\"false\", splines=\"true\")\n",
        "        for v in self.adj_list:\n",
        "            if positions is not None:\n",
        "                dot.node(str(v), pos=positions[v])\n",
        "            else:\n",
        "                dot.node(str(v))\n",
        "        for v in self.adj_list:\n",
        "            for w in self.adj_list[v]:\n",
        "                dot.edge(str(v), str(w))\n",
        "\n",
        "        return dot"
      ],
      "execution_count": 8,
      "outputs": []
    },
    {
      "cell_type": "code",
      "metadata": {
        "colab": {
          "base_uri": "https://localhost:8080/",
          "height": 162
        },
        "id": "rxf9yJ7zw5aq",
        "outputId": "0ffe0a50-a48a-4a70-bdf5-9b8a1dbf49f6"
      },
      "source": [
        "G = Graph(graph)\n",
        "G.show(positions=pos)"
      ],
      "execution_count": 9,
      "outputs": [
        {
          "output_type": "execute_result",
          "data": {
            "text/plain": [
              "<graphviz.dot.Digraph at 0x7f93782bc1d0>"
            ],
            "image/svg+xml": "<?xml version=\"1.0\" encoding=\"UTF-8\" standalone=\"no\"?>\n<!DOCTYPE svg PUBLIC \"-//W3C//DTD SVG 1.1//EN\"\n \"http://www.w3.org/Graphics/SVG/1.1/DTD/svg11.dtd\">\n<!-- Generated by graphviz version 2.40.1 (20161225.0304)\n -->\n<!-- Title: %3 Pages: 1 -->\n<svg width=\"186pt\" height=\"106pt\"\n viewBox=\"0.00 0.00 186.01 106.01\" xmlns=\"http://www.w3.org/2000/svg\" xmlns:xlink=\"http://www.w3.org/1999/xlink\">\n<g id=\"graph0\" class=\"graph\" transform=\"scale(1 1) rotate(0) translate(4 102.0062)\">\n<title>%3</title>\n<polygon fill=\"#ffffff\" stroke=\"transparent\" points=\"-4,4 -4,-102.0062 182.0124,-102.0062 182.0124,4 -4,4\"/>\n<!-- 0 -->\n<g id=\"node1\" class=\"node\">\n<title>0</title>\n<ellipse fill=\"none\" stroke=\"#000000\" cx=\"27\" cy=\"-80.0062\" rx=\"27\" ry=\"18\"/>\n<text text-anchor=\"middle\" x=\"27\" y=\"-76.3062\" font-family=\"Times,serif\" font-size=\"14.00\" fill=\"#000000\">0</text>\n</g>\n<!-- 3 -->\n<g id=\"node4\" class=\"node\">\n<title>3</title>\n<ellipse fill=\"none\" stroke=\"#000000\" cx=\"27\" cy=\"-18\" rx=\"27\" ry=\"18\"/>\n<text text-anchor=\"middle\" x=\"27\" y=\"-14.3\" font-family=\"Times,serif\" font-size=\"14.00\" fill=\"#000000\">3</text>\n</g>\n<!-- 0&#45;&gt;3 -->\n<g id=\"edge1\" class=\"edge\">\n<title>0&#45;&gt;3</title>\n<path fill=\"none\" stroke=\"#000000\" d=\"M27,-61.7377C27,-56.9865 27,-51.7523 27,-46.6068\"/>\n<polygon fill=\"#000000\" stroke=\"#000000\" points=\"30.5001,-46.3522 27,-36.3522 23.5001,-46.3523 30.5001,-46.3522\"/>\n</g>\n<!-- 1 -->\n<g id=\"node2\" class=\"node\">\n<title>1</title>\n<ellipse fill=\"none\" stroke=\"#000000\" cx=\"89.0062\" cy=\"-80.0062\" rx=\"27\" ry=\"18\"/>\n<text text-anchor=\"middle\" x=\"89.0062\" y=\"-76.3062\" font-family=\"Times,serif\" font-size=\"14.00\" fill=\"#000000\">1</text>\n</g>\n<!-- 1&#45;&gt;0 -->\n<g id=\"edge2\" class=\"edge\">\n<title>1&#45;&gt;0</title>\n<path fill=\"none\" stroke=\"#000000\" d=\"M61.9898,-80.0062C61.8266,-80.0062 61.6632,-80.0062 61.4998,-80.0062\"/>\n<polygon fill=\"#000000\" stroke=\"#000000\" points=\"64.1179,-76.5063 54.1179,-80.0062 64.1178,-83.5063 64.1179,-76.5063\"/>\n</g>\n<!-- 4 -->\n<g id=\"node5\" class=\"node\">\n<title>4</title>\n<ellipse fill=\"none\" stroke=\"#000000\" cx=\"89.0062\" cy=\"-18\" rx=\"27\" ry=\"18\"/>\n<text text-anchor=\"middle\" x=\"89.0062\" y=\"-14.3\" font-family=\"Times,serif\" font-size=\"14.00\" fill=\"#000000\">4</text>\n</g>\n<!-- 1&#45;&gt;4 -->\n<g id=\"edge3\" class=\"edge\">\n<title>1&#45;&gt;4</title>\n<path fill=\"none\" stroke=\"#000000\" d=\"M89.0062,-61.7377C89.0062,-56.9865 89.0062,-51.7523 89.0062,-46.6068\"/>\n<polygon fill=\"#000000\" stroke=\"#000000\" points=\"92.5063,-46.3522 89.0062,-36.3522 85.5063,-46.3523 92.5063,-46.3522\"/>\n</g>\n<!-- 2 -->\n<g id=\"node3\" class=\"node\">\n<title>2</title>\n<ellipse fill=\"none\" stroke=\"#000000\" cx=\"151.0124\" cy=\"-80.0062\" rx=\"27\" ry=\"18\"/>\n<text text-anchor=\"middle\" x=\"151.0124\" y=\"-76.3062\" font-family=\"Times,serif\" font-size=\"14.00\" fill=\"#000000\">2</text>\n</g>\n<!-- 2&#45;&gt;1 -->\n<g id=\"edge4\" class=\"edge\">\n<title>2&#45;&gt;1</title>\n<path fill=\"none\" stroke=\"#000000\" d=\"M123.996,-80.0062C123.8328,-80.0062 123.6694,-80.0062 123.506,-80.0062\"/>\n<polygon fill=\"#000000\" stroke=\"#000000\" points=\"126.1241,-76.5063 116.1241,-80.0062 126.124,-83.5063 126.1241,-76.5063\"/>\n</g>\n<!-- 2&#45;&gt;4 -->\n<g id=\"edge5\" class=\"edge\">\n<title>2&#45;&gt;4</title>\n<path fill=\"none\" stroke=\"#000000\" d=\"M136.0024,-64.9962C128.6482,-57.642 119.6406,-48.6344 111.486,-40.4798\"/>\n<polygon fill=\"#000000\" stroke=\"#000000\" points=\"113.8547,-37.8987 104.3087,-33.3025 108.9049,-42.8485 113.8547,-37.8987\"/>\n</g>\n<!-- 3&#45;&gt;1 -->\n<g id=\"edge6\" class=\"edge\">\n<title>3&#45;&gt;1</title>\n<path fill=\"none\" stroke=\"#000000\" d=\"M42.01,-33.01C49.3642,-40.3642 58.3718,-49.3718 66.5264,-57.5264\"/>\n<polygon fill=\"#000000\" stroke=\"#000000\" points=\"64.1577,-60.1075 73.7037,-64.7037 69.1075,-55.1577 64.1577,-60.1075\"/>\n</g>\n<!-- 4&#45;&gt;3 -->\n<g id=\"edge7\" class=\"edge\">\n<title>4&#45;&gt;3</title>\n<path fill=\"none\" stroke=\"#000000\" d=\"M61.9898,-18C61.8266,-18 61.6632,-18 61.4998,-18\"/>\n<polygon fill=\"#000000\" stroke=\"#000000\" points=\"64.1179,-14.5001 54.1179,-18 64.1178,-21.5001 64.1179,-14.5001\"/>\n</g>\n<!-- 5 -->\n<g id=\"node6\" class=\"node\">\n<title>5</title>\n<ellipse fill=\"none\" stroke=\"#000000\" cx=\"151.0124\" cy=\"-18\" rx=\"27\" ry=\"18\"/>\n<text text-anchor=\"middle\" x=\"151.0124\" y=\"-14.3\" font-family=\"Times,serif\" font-size=\"14.00\" fill=\"#000000\">5</text>\n</g>\n<!-- 5&#45;&gt;2 -->\n<g id=\"edge8\" class=\"edge\">\n<title>5&#45;&gt;2</title>\n<path fill=\"none\" stroke=\"#000000\" d=\"M151.0124,-36.2685C151.0124,-41.0197 151.0124,-46.2539 151.0124,-51.3994\"/>\n<polygon fill=\"#000000\" stroke=\"#000000\" points=\"147.5125,-51.6539 151.0124,-61.654 154.5125,-51.654 147.5125,-51.6539\"/>\n</g>\n<!-- 5&#45;&gt;4 -->\n<g id=\"edge9\" class=\"edge\">\n<title>5&#45;&gt;4</title>\n<path fill=\"none\" stroke=\"#000000\" d=\"M123.996,-18C123.8328,-18 123.6694,-18 123.506,-18\"/>\n<polygon fill=\"#000000\" stroke=\"#000000\" points=\"126.1241,-14.5001 116.1241,-18 126.124,-21.5001 126.1241,-14.5001\"/>\n</g>\n</g>\n</svg>\n"
          },
          "metadata": {},
          "execution_count": 9
        }
      ]
    },
    {
      "cell_type": "markdown",
      "metadata": {
        "id": "YL9r3n0uw5aq"
      },
      "source": [
        "## Depth-first search\n",
        "\n",
        "Let's implement the DFS search. We will provide the code for you. Later on, you will extend it to implement other algorithms. We will use a colouring scheme for nodes. \n",
        "\n",
        "Initially, all nodes are \"white\" indicating they are not processed yet. When we first visit a node, we recolour it as \"grey\". Finally, the node becomes \"black\" when we have processed all its outgoing edges, and we are ready to backtrack to the previous node."
      ]
    },
    {
      "cell_type": "code",
      "metadata": {
        "id": "gNRww8FAw5ar"
      },
      "source": [
        "class Graph(Graph):\n",
        "    def _dfs_r(self, v): # This is the main DFS recursive function\n",
        "        \"\"\"\n",
        "        argument \n",
        "        `v`, next vertex to be visited\n",
        "        `colour`, dictionary with the colour of each node\n",
        "        \"\"\"\n",
        "        print('Visiting: ', v)\n",
        "        self.colour[v] = 'grey' # Visited vertices are coloured 'grey'\n",
        "        for w in self.adj_list[v]: # Let's visit all outgoing edges from v\n",
        "            if self.colour[w] == 'white': # To avoid loops, we check if the next vertex hasn't been visited yet\n",
        "                self._dfs_r(w)\n",
        "        self.colour[v] = 'black' # When we finish the for loop, we know we have visited all nodes from v. It is time to turn it 'black'\n",
        "\n",
        "    def dfs(self, start): # This is an auxiliary DFS function to create and initialize the colour dictionary\n",
        "        \"\"\"\n",
        "        argument \n",
        "        `start`, starting vertex\n",
        "        \"\"\"    \n",
        "        self.colour = {node: 'white' for node in self.adj_list.keys()} # Create a dictionary with keys as node numbers and values equal to 'white'\n",
        "        self._dfs_r(start)\n",
        "        return self.colour # We can return colour dictionary. It is useful for some operations, such as detecting connected components"
      ],
      "execution_count": 10,
      "outputs": []
    },
    {
      "cell_type": "markdown",
      "metadata": {
        "id": "vuAlaGGDw5ar"
      },
      "source": [
        "We can now test your graph representation. If you represented the graph correctly, a DFS starting at node 0 should visit all vertices but nodes 2 and 5. Notice, there is no path between node 0 and nodes 2 and 5."
      ]
    },
    {
      "cell_type": "code",
      "metadata": {
        "colab": {
          "base_uri": "https://localhost:8080/"
        },
        "id": "v6v0VUpxw5ar",
        "outputId": "9097301b-a5a9-4e75-c270-1400b01175ab"
      },
      "source": [
        "G = Graph(graph)\n",
        "G.dfs(0)"
      ],
      "execution_count": 11,
      "outputs": [
        {
          "output_type": "stream",
          "name": "stdout",
          "text": [
            "Visiting:  0\n",
            "Visiting:  3\n",
            "Visiting:  1\n",
            "Visiting:  4\n"
          ]
        },
        {
          "output_type": "execute_result",
          "data": {
            "text/plain": [
              "{0: 'black', 1: 'black', 2: 'white', 3: 'black', 4: 'black', 5: 'white'}"
            ]
          },
          "metadata": {},
          "execution_count": 11
        }
      ]
    },
    {
      "cell_type": "markdown",
      "metadata": {
        "id": "70XN-dIBw5as"
      },
      "source": [
        "A modification of the algorithm can make sure it searches all nodes, even if they are disconnected from other nodes. The idea is to re-start the recursive DFS search for each white node until all nodes become black."
      ]
    },
    {
      "cell_type": "code",
      "metadata": {
        "id": "0RGv97J7w5as"
      },
      "source": [
        "class Graph(Graph):\n",
        "    def dfs_all(self): # This is an auxiliary DFS function to create and initialize the colour dictionary\n",
        "        \"\"\"\n",
        "        argument \n",
        "        `start`, starting vertex\n",
        "        \"\"\"    \n",
        "        self.colour = {node: 'white' for node in self.adj_list.keys()} # Create a dictionary with keys as node numbers and values equal to 'white'\n",
        "        for start in self.colour.keys():\n",
        "            if self.colour[start] == 'white':\n",
        "                self._dfs_r(start)"
      ],
      "execution_count": 12,
      "outputs": []
    },
    {
      "cell_type": "code",
      "metadata": {
        "colab": {
          "base_uri": "https://localhost:8080/"
        },
        "id": "YeEH5EbQw5as",
        "outputId": "68d418fd-5d59-42be-addd-bfec55e6632e"
      },
      "source": [
        "G = Graph(graph)\n",
        "G.dfs_all()"
      ],
      "execution_count": 13,
      "outputs": [
        {
          "output_type": "stream",
          "name": "stdout",
          "text": [
            "Visiting:  0\n",
            "Visiting:  3\n",
            "Visiting:  1\n",
            "Visiting:  4\n",
            "Visiting:  2\n",
            "Visiting:  5\n"
          ]
        }
      ]
    },
    {
      "cell_type": "markdown",
      "metadata": {
        "id": "T_Jzvra1w5at"
      },
      "source": [
        "## Finding Cycles in Directed Graphs\n",
        "\n",
        "Our second task is to determine if a graph has cycles. During a DFS, a cycle can be found by testing if we have reached a grey node. Usually, we stop when we first observe a cycle. Therefore, we need to modify the DFS procedure to return a boolean.\n",
        "\n",
        "### Exercise\n",
        "\n",
        "Now, it is your turn, modify the code bellow to detect cycles in directed graphs."
      ]
    },
    {
      "cell_type": "code",
      "metadata": {
        "colab": {
          "base_uri": "https://localhost:8080/"
        },
        "id": "zfFzT0Fiw5at",
        "outputId": "4cabe5f8-5e40-476d-efa3-9ed772164a09"
      },
      "source": [
        "class Graph(Graph):\n",
        "    # This is the main recursive function\n",
        "    def _find_cycle_r(self, v):\n",
        "        \"\"\"\n",
        "        argument \n",
        "        `v`, next vertex to be visited\n",
        "        \"\"\"      \n",
        "        print('Visiting: ', v)\n",
        "        \n",
        "        # insert your code here\n",
        "        # print a debug message such as\n",
        "        # print(v, w, 'Cycle detected')\n",
        "        # when you detect a cycle. \n",
        "\n",
        "        self.colour[v] = 'grey' # Visited vertices are coloured 'grey'\n",
        "        for w in self.adj_list[v]: # Let's visit all outgoing edges from v\n",
        "            if self.colour[w] == 'grey':\n",
        "                print(v, w, 'Cycle detected')\n",
        "                return True\n",
        "\n",
        "            elif self.colour[w] == 'white': # To avoid loops, we check if the next vertex hasn't been visited yet\n",
        "                self._find_cycle_r(w)\n",
        "        self.colour[v] = 'black' # When we finish the for loop, we know we have visited all nodes from v. It is time to turn it 'black'\n",
        "\n",
        "        return False\n",
        "\n",
        "    # This is an auxiliary function to create and initialize the colour dictionary    \n",
        "    def find_cycle(self):\n",
        "        \"\"\"\n",
        "        argument \n",
        "        `v`, starting vertex\n",
        "        \"\"\"        \n",
        "        self.colour = dict([(node, 'white') for node in self.adj_list.keys()])\n",
        "        for start in self.colour.keys():\n",
        "            if self.colour[start] == 'white':\n",
        "                if self._find_cycle_r(start):\n",
        "                    return True\n",
        "                else:\n",
        "                    return self._find_cycle_r(start)\n",
        "\n",
        "#######################################\n",
        "# Test code\n",
        "#######################################\n",
        "test_graph1 = {\n",
        "    0: [1],\n",
        "    1: [2],\n",
        "    2: [3],\n",
        "    3: [4],\n",
        "    4: [5],\n",
        "    5: [0],\n",
        "}\n",
        "\n",
        "test_graph2 = {\n",
        "    0: [1,4],\n",
        "    1: [2],\n",
        "    2: [4],\n",
        "    3: [],\n",
        "    4: [5],\n",
        "    5: [3],\n",
        "}\n",
        "\n",
        "print ('Test graph 1')\n",
        "G1 = Graph(test_graph1)\n",
        "G1.find_cycle()\n",
        "print ('Test graph 2')\n",
        "G2 = Graph(test_graph2)\n",
        "G2.find_cycle()\n"
      ],
      "execution_count": 44,
      "outputs": [
        {
          "output_type": "stream",
          "name": "stdout",
          "text": [
            "Test graph 1\n",
            "Visiting:  0\n",
            "Visiting:  1\n",
            "Visiting:  2\n",
            "Visiting:  3\n",
            "Visiting:  4\n",
            "Visiting:  5\n",
            "5 0 Cycle detected\n",
            "Visiting:  0\n",
            "Test graph 2\n",
            "Visiting:  0\n",
            "Visiting:  1\n",
            "Visiting:  2\n",
            "Visiting:  4\n",
            "Visiting:  5\n",
            "Visiting:  3\n",
            "Visiting:  0\n"
          ]
        },
        {
          "output_type": "execute_result",
          "data": {
            "text/plain": [
              "False"
            ]
          },
          "metadata": {},
          "execution_count": 44
        }
      ]
    },
    {
      "cell_type": "markdown",
      "metadata": {
        "id": "f8Qkq-5pw5at"
      },
      "source": [
        "If your implementation is correct and you included a message when the cycle is detected, then you should see the following output:\n",
        "\n",
        "```\n",
        "Test graph 1\n",
        "Visiting:  0\n",
        "Visiting:  1\n",
        "Visiting:  2\n",
        "Visiting:  3\n",
        "Visiting:  4\n",
        "Visiting:  5\n",
        "5 0 Cycle detected\n",
        "Test graph 2\n",
        "Visiting:  0\n",
        "Visiting:  1\n",
        "Visiting:  2\n",
        "Visiting:  4\n",
        "Visiting:  5\n",
        "Visiting:  3\n",
        "Visiting:  0\n",
        "False\n",
        "```"
      ]
    },
    {
      "cell_type": "markdown",
      "metadata": {
        "id": "ks2KiiI9w5au"
      },
      "source": [
        "We can now test your implementation in the exercise graph."
      ]
    },
    {
      "cell_type": "code",
      "metadata": {
        "colab": {
          "base_uri": "https://localhost:8080/"
        },
        "id": "us2VoMLBw5au",
        "outputId": "f8993581-4be9-4c50-8014-9d1cec5c4068"
      },
      "source": [
        "G = Graph(graph)\n",
        "G.find_cycle()"
      ],
      "execution_count": 47,
      "outputs": [
        {
          "output_type": "stream",
          "name": "stdout",
          "text": [
            "Visiting:  0\n",
            "Visiting:  3\n",
            "Visiting:  1\n",
            "1 0 Cycle detected\n",
            "Visiting:  0\n"
          ]
        },
        {
          "output_type": "execute_result",
          "data": {
            "text/plain": [
              "False"
            ]
          },
          "metadata": {},
          "execution_count": 47
        }
      ]
    },
    {
      "cell_type": "markdown",
      "metadata": {
        "id": "NNgAVlocw5au"
      },
      "source": [
        "It should show one of the following cycles: 0-3-1 or 1-4-2, depending on the order you entered the node numbers in the adjacency list."
      ]
    },
    {
      "cell_type": "markdown",
      "metadata": {
        "id": "Skuu43vyw5au"
      },
      "source": [
        "# Topological Sort\n",
        "\n",
        "The topological sort can be obtained by merely inserting the nodes into a stack when they become black. We use the stack to reverse the order of the nodes when printing the result. By doing so, the edges are directed from left to right.\n",
        "\n",
        "## Exercise\n",
        "\n",
        "Let's implement the topological sort. It is an almost trivial modification of your DFS procedure. We have started the code for you creating a stack to store the sorted nodes."
      ]
    },
    {
      "cell_type": "code",
      "metadata": {
        "colab": {
          "base_uri": "https://localhost:8080/"
        },
        "id": "apPN8VQ3w5av",
        "outputId": "185db796-b9d1-4fce-bcf1-9d055d5b7ca7"
      },
      "source": [
        "class Graph(Graph):\n",
        "    # This is the recursive function that visits the nodes according to depth-first search and appends the black nodes \n",
        "    # to the end of a `stack` list.\n",
        "    def _topological_sort_r(self, v):\n",
        "        \"\"\"\n",
        "        argument \n",
        "        `v`, current vertex\n",
        "        \"\"\"\n",
        "        \n",
        "        # TODO: Fill in this function\n",
        "        self.colour[v] = 'grey' # Visited vertices are coloured 'grey'\n",
        "        for w in self.adj_list[v]: # Let's visit all outgoing edges from v\n",
        "            if self.colour[w] == 'white': # To avoid loops, we check if the next vertex hasn't been visited yet\n",
        "                self._topological_sort_r(w)\n",
        "        self.colour[v] = 'black' # When we finish the for loop, we know we have visited all nodes from v. It is time to turn it 'black'\n",
        "        self.stack.append(v)\n",
        "        \n",
        "        \n",
        "    # This is main function that prepares for the recursive function. It first colours all nodes as 'white' and call the\n",
        "    # recursive function for an arbitrary node. When the recursive function returns, if we have any remaining 'white'\n",
        "    # nodes, we call the recursive function again for these nodes.\n",
        "    def topological_sort(self):\n",
        "        \"\"\"\n",
        "        argument \n",
        "        `G`, an adjacency list representation of a graph\n",
        "        return a list with the topological order of the graph G\n",
        "        \"\"\"\n",
        "        # We start with an empty stack\n",
        "        self.stack = []\n",
        "        # Colour is dictionary that associates node keys to colours. The colours are 'white', 'grey' and 'black'.\n",
        "        self.colour = {node: 'white' for node in self.adj_list.keys()}\n",
        "        # We call the recursive function to visit a first node. When the function returns, if there are any white \n",
        "        # nodes remaining, we call the function again for these white nodes\n",
        "        for start in self.adj_list.keys():\n",
        "            # If the node is 'white' we call the recursive function to vists the nodes connected to it in DFS order\n",
        "            if self.colour[start] == 'white':\n",
        "                # This is a call to topologicalSort_r\n",
        "                self._topological_sort_r(start)\n",
        "        # We need to reverse the list, we use a little trick with list slice\n",
        "        return self.stack[::-1]\n",
        "\n",
        "\n",
        "#######################################\n",
        "# Test code\n",
        "#######################################\n",
        "        \n",
        "test_graph2 = {\n",
        "    0: [1,4],\n",
        "    1: [2],\n",
        "    2: [4],\n",
        "    3: [],\n",
        "    4: [5],\n",
        "    5: [3],    \n",
        "}\n",
        "\n",
        "G2 = Graph(test_graph2)\n",
        "print(\"Topological sort:\")\n",
        "print(G2.topological_sort())"
      ],
      "execution_count": 48,
      "outputs": [
        {
          "output_type": "stream",
          "name": "stdout",
          "text": [
            "Topological sort:\n",
            "[0, 1, 2, 4, 5, 3]\n"
          ]
        }
      ]
    },
    {
      "cell_type": "markdown",
      "metadata": {
        "id": "w25kW0ITw5av"
      },
      "source": [
        "If your implementation is correct, then you should see the following output:\n",
        "\n",
        "```\n",
        "Topological sort: \n",
        "[0, 1, 2, 4, 5, 3]\n",
        "```"
      ]
    },
    {
      "cell_type": "markdown",
      "metadata": {
        "id": "ZDI3tfAmw5av"
      },
      "source": [
        "Now, let's execute your code. First, we need a new DAG, since our example has cycles and the topological ordering only makes sense for acyclic graphs."
      ]
    },
    {
      "cell_type": "code",
      "metadata": {
        "colab": {
          "base_uri": "https://localhost:8080/"
        },
        "id": "56pxoNOCw5av",
        "outputId": "d429f20e-de36-4ed0-fa18-fe8c88751b6a"
      },
      "source": [
        "graph = {\n",
        "    0: [1, 4],\n",
        "    1: [2, 4],\n",
        "    2: [5],\n",
        "    3: [0, 4],\n",
        "    4: [5],\n",
        "    5: [],\n",
        "}\n",
        "\n",
        "G = Graph(graph)\n",
        "G.topological_sort()"
      ],
      "execution_count": 50,
      "outputs": [
        {
          "output_type": "execute_result",
          "data": {
            "text/plain": [
              "[3, 0, 1, 4, 2, 5]"
            ]
          },
          "metadata": {},
          "execution_count": 50
        }
      ]
    },
    {
      "cell_type": "markdown",
      "metadata": {
        "id": "0QjGL0U_w5av"
      },
      "source": [
        "Let's visualise the test graph again, just to remember its topology."
      ]
    },
    {
      "cell_type": "code",
      "metadata": {
        "scrolled": false,
        "colab": {
          "base_uri": "https://localhost:8080/",
          "height": 162
        },
        "id": "2I2fKLOVw5aw",
        "outputId": "5cd025f3-5c71-4682-d443-b329f0479f73"
      },
      "source": [
        "G.show(positions=pos)"
      ],
      "execution_count": 52,
      "outputs": [
        {
          "output_type": "execute_result",
          "data": {
            "text/plain": [
              "<graphviz.dot.Digraph at 0x7f9373fbb550>"
            ],
            "image/svg+xml": "<?xml version=\"1.0\" encoding=\"UTF-8\" standalone=\"no\"?>\n<!DOCTYPE svg PUBLIC \"-//W3C//DTD SVG 1.1//EN\"\n \"http://www.w3.org/Graphics/SVG/1.1/DTD/svg11.dtd\">\n<!-- Generated by graphviz version 2.40.1 (20161225.0304)\n -->\n<!-- Title: %3 Pages: 1 -->\n<svg width=\"186pt\" height=\"106pt\"\n viewBox=\"0.00 0.00 186.01 106.01\" xmlns=\"http://www.w3.org/2000/svg\" xmlns:xlink=\"http://www.w3.org/1999/xlink\">\n<g id=\"graph0\" class=\"graph\" transform=\"scale(1 1) rotate(0) translate(4 102.0062)\">\n<title>%3</title>\n<polygon fill=\"#ffffff\" stroke=\"transparent\" points=\"-4,4 -4,-102.0062 182.0124,-102.0062 182.0124,4 -4,4\"/>\n<!-- 0 -->\n<g id=\"node1\" class=\"node\">\n<title>0</title>\n<ellipse fill=\"none\" stroke=\"#000000\" cx=\"27\" cy=\"-80.0062\" rx=\"27\" ry=\"18\"/>\n<text text-anchor=\"middle\" x=\"27\" y=\"-76.3062\" font-family=\"Times,serif\" font-size=\"14.00\" fill=\"#000000\">0</text>\n</g>\n<!-- 1 -->\n<g id=\"node2\" class=\"node\">\n<title>1</title>\n<ellipse fill=\"none\" stroke=\"#000000\" cx=\"89.0062\" cy=\"-80.0062\" rx=\"27\" ry=\"18\"/>\n<text text-anchor=\"middle\" x=\"89.0062\" y=\"-76.3062\" font-family=\"Times,serif\" font-size=\"14.00\" fill=\"#000000\">1</text>\n</g>\n<!-- 0&#45;&gt;1 -->\n<g id=\"edge1\" class=\"edge\">\n<title>0&#45;&gt;1</title>\n<path fill=\"none\" stroke=\"#000000\" d=\"M54.0164,-80.0062C54.1796,-80.0062 54.343,-80.0062 54.5064,-80.0062\"/>\n<polygon fill=\"#000000\" stroke=\"#000000\" points=\"51.8884,-83.5063 61.8883,-80.0062 51.8883,-76.5063 51.8884,-83.5063\"/>\n</g>\n<!-- 4 -->\n<g id=\"node5\" class=\"node\">\n<title>4</title>\n<ellipse fill=\"none\" stroke=\"#000000\" cx=\"89.0062\" cy=\"-18\" rx=\"27\" ry=\"18\"/>\n<text text-anchor=\"middle\" x=\"89.0062\" y=\"-14.3\" font-family=\"Times,serif\" font-size=\"14.00\" fill=\"#000000\">4</text>\n</g>\n<!-- 0&#45;&gt;4 -->\n<g id=\"edge2\" class=\"edge\">\n<title>0&#45;&gt;4</title>\n<path fill=\"none\" stroke=\"#000000\" d=\"M42.01,-64.9962C49.3642,-57.642 58.3718,-48.6344 66.5264,-40.4798\"/>\n<polygon fill=\"#000000\" stroke=\"#000000\" points=\"69.1075,-42.8485 73.7037,-33.3025 64.1577,-37.8987 69.1075,-42.8485\"/>\n</g>\n<!-- 2 -->\n<g id=\"node3\" class=\"node\">\n<title>2</title>\n<ellipse fill=\"none\" stroke=\"#000000\" cx=\"151.0124\" cy=\"-80.0062\" rx=\"27\" ry=\"18\"/>\n<text text-anchor=\"middle\" x=\"151.0124\" y=\"-76.3062\" font-family=\"Times,serif\" font-size=\"14.00\" fill=\"#000000\">2</text>\n</g>\n<!-- 1&#45;&gt;2 -->\n<g id=\"edge3\" class=\"edge\">\n<title>1&#45;&gt;2</title>\n<path fill=\"none\" stroke=\"#000000\" d=\"M116.0226,-80.0062C116.1858,-80.0062 116.3492,-80.0062 116.5126,-80.0062\"/>\n<polygon fill=\"#000000\" stroke=\"#000000\" points=\"113.8946,-83.5063 123.8945,-80.0062 113.8945,-76.5063 113.8946,-83.5063\"/>\n</g>\n<!-- 1&#45;&gt;4 -->\n<g id=\"edge4\" class=\"edge\">\n<title>1&#45;&gt;4</title>\n<path fill=\"none\" stroke=\"#000000\" d=\"M89.0062,-61.7377C89.0062,-56.9865 89.0062,-51.7523 89.0062,-46.6068\"/>\n<polygon fill=\"#000000\" stroke=\"#000000\" points=\"92.5063,-46.3522 89.0062,-36.3522 85.5063,-46.3523 92.5063,-46.3522\"/>\n</g>\n<!-- 5 -->\n<g id=\"node6\" class=\"node\">\n<title>5</title>\n<ellipse fill=\"none\" stroke=\"#000000\" cx=\"151.0124\" cy=\"-18\" rx=\"27\" ry=\"18\"/>\n<text text-anchor=\"middle\" x=\"151.0124\" y=\"-14.3\" font-family=\"Times,serif\" font-size=\"14.00\" fill=\"#000000\">5</text>\n</g>\n<!-- 2&#45;&gt;5 -->\n<g id=\"edge5\" class=\"edge\">\n<title>2&#45;&gt;5</title>\n<path fill=\"none\" stroke=\"#000000\" d=\"M151.0124,-61.7377C151.0124,-56.9865 151.0124,-51.7523 151.0124,-46.6068\"/>\n<polygon fill=\"#000000\" stroke=\"#000000\" points=\"154.5125,-46.3522 151.0124,-36.3522 147.5125,-46.3523 154.5125,-46.3522\"/>\n</g>\n<!-- 3 -->\n<g id=\"node4\" class=\"node\">\n<title>3</title>\n<ellipse fill=\"none\" stroke=\"#000000\" cx=\"27\" cy=\"-18\" rx=\"27\" ry=\"18\"/>\n<text text-anchor=\"middle\" x=\"27\" y=\"-14.3\" font-family=\"Times,serif\" font-size=\"14.00\" fill=\"#000000\">3</text>\n</g>\n<!-- 3&#45;&gt;0 -->\n<g id=\"edge6\" class=\"edge\">\n<title>3&#45;&gt;0</title>\n<path fill=\"none\" stroke=\"#000000\" d=\"M27,-36.2685C27,-41.0197 27,-46.2539 27,-51.3994\"/>\n<polygon fill=\"#000000\" stroke=\"#000000\" points=\"23.5001,-51.6539 27,-61.654 30.5001,-51.654 23.5001,-51.6539\"/>\n</g>\n<!-- 3&#45;&gt;4 -->\n<g id=\"edge7\" class=\"edge\">\n<title>3&#45;&gt;4</title>\n<path fill=\"none\" stroke=\"#000000\" d=\"M54.0164,-18C54.1796,-18 54.343,-18 54.5064,-18\"/>\n<polygon fill=\"#000000\" stroke=\"#000000\" points=\"51.8884,-21.5001 61.8883,-18 51.8883,-14.5001 51.8884,-21.5001\"/>\n</g>\n<!-- 4&#45;&gt;5 -->\n<g id=\"edge8\" class=\"edge\">\n<title>4&#45;&gt;5</title>\n<path fill=\"none\" stroke=\"#000000\" d=\"M116.0226,-18C116.1858,-18 116.3492,-18 116.5126,-18\"/>\n<polygon fill=\"#000000\" stroke=\"#000000\" points=\"113.8946,-21.5001 123.8945,-18 113.8945,-14.5001 113.8946,-21.5001\"/>\n</g>\n</g>\n</svg>\n"
          },
          "metadata": {},
          "execution_count": 52
        }
      ]
    },
    {
      "cell_type": "markdown",
      "metadata": {
        "id": "8qM2DAzAw5aw"
      },
      "source": [
        "We can use graphViz to visualize the topological sort output graphically to confirm our code is correct. "
      ]
    },
    {
      "cell_type": "code",
      "metadata": {
        "colab": {
          "base_uri": "https://localhost:8080/",
          "height": 89
        },
        "id": "3aQxVD2-w5aw",
        "outputId": "abb7fdfd-7dc5-496c-8151-845fe0a31d74"
      },
      "source": [
        "# We use the neato engine since it allow to position the nodes\n",
        "dot = graphviz.Digraph(engine=\"neato\", comment='Topological sort')\n",
        "# This line will avoid the edges to cross over the nodes\n",
        "dot.attr(overlap=\"false\", splines=\"true\")\n",
        "\n",
        "s = G.topological_sort()\n",
        "\n",
        "# Create nodes in sequence positions determined by the stack s\n",
        "for i, v in enumerate(s, 1):\n",
        "    dot.node(str(v), pos=str(i)+',0!')\n",
        "\n",
        "# Create edges\n",
        "for v in s:\n",
        "    for w in graph[v]:\n",
        "        dot.edge(str(v), str(w))\n",
        "\n",
        "dot"
      ],
      "execution_count": 53,
      "outputs": [
        {
          "output_type": "execute_result",
          "data": {
            "text/plain": [
              "<graphviz.dot.Digraph at 0x7f9373fbaa50>"
            ],
            "image/svg+xml": "<?xml version=\"1.0\" encoding=\"UTF-8\" standalone=\"no\"?>\n<!DOCTYPE svg PUBLIC \"-//W3C//DTD SVG 1.1//EN\"\n \"http://www.w3.org/Graphics/SVG/1.1/DTD/svg11.dtd\">\n<!-- Generated by graphviz version 2.40.1 (20161225.0304)\n -->\n<!-- Title: %3 Pages: 1 -->\n<svg width=\"372pt\" height=\"51pt\"\n viewBox=\"0.00 0.00 372.03 51.12\" xmlns=\"http://www.w3.org/2000/svg\" xmlns:xlink=\"http://www.w3.org/1999/xlink\">\n<g id=\"graph0\" class=\"graph\" transform=\"scale(1 1) rotate(0) translate(4 47.1232)\">\n<title>%3</title>\n<polygon fill=\"#ffffff\" stroke=\"transparent\" points=\"-4,4 -4,-47.1232 368.031,-47.1232 368.031,4 -4,4\"/>\n<!-- 3 -->\n<g id=\"node1\" class=\"node\">\n<title>3</title>\n<ellipse fill=\"none\" stroke=\"#000000\" cx=\"27\" cy=\"-19.6851\" rx=\"27\" ry=\"18\"/>\n<text text-anchor=\"middle\" x=\"27\" y=\"-15.9851\" font-family=\"Times,serif\" font-size=\"14.00\" fill=\"#000000\">3</text>\n</g>\n<!-- 0 -->\n<g id=\"node2\" class=\"node\">\n<title>0</title>\n<ellipse fill=\"none\" stroke=\"#000000\" cx=\"89.0062\" cy=\"-19.6851\" rx=\"27\" ry=\"18\"/>\n<text text-anchor=\"middle\" x=\"89.0062\" y=\"-15.9851\" font-family=\"Times,serif\" font-size=\"14.00\" fill=\"#000000\">0</text>\n</g>\n<!-- 3&#45;&gt;0 -->\n<g id=\"edge1\" class=\"edge\">\n<title>3&#45;&gt;0</title>\n<path fill=\"none\" stroke=\"#000000\" d=\"M54.0164,-19.6851C54.1796,-19.6851 54.343,-19.6851 54.5064,-19.6851\"/>\n<polygon fill=\"#000000\" stroke=\"#000000\" points=\"51.8884,-23.1852 61.8883,-19.6851 51.8883,-16.1852 51.8884,-23.1852\"/>\n</g>\n<!-- 4 -->\n<g id=\"node4\" class=\"node\">\n<title>4</title>\n<ellipse fill=\"none\" stroke=\"#000000\" cx=\"213.0186\" cy=\"-19.6851\" rx=\"27\" ry=\"18\"/>\n<text text-anchor=\"middle\" x=\"213.0186\" y=\"-15.9851\" font-family=\"Times,serif\" font-size=\"14.00\" fill=\"#000000\">4</text>\n</g>\n<!-- 3&#45;&gt;4 -->\n<g id=\"edge2\" class=\"edge\">\n<title>3&#45;&gt;4</title>\n<path fill=\"none\" stroke=\"#000000\" d=\"M50.3699,-29.1182C61.7746,-33.1933 75.8211,-37.4453 88.8762,-39.2849 116.1171,-43.1232 123.5147,-42.9925 150.7736,-39.2844 160.0472,-38.0229 162.1141,-36.3893 171.0661,-33.6596 173.6614,-32.8682 176.3398,-32.0289 179.0288,-31.1702\"/>\n<polygon fill=\"#000000\" stroke=\"#000000\" points=\"180.2597,-34.4503 188.6839,-28.0251 178.0916,-27.7945 180.2597,-34.4503\"/>\n</g>\n<!-- 1 -->\n<g id=\"node3\" class=\"node\">\n<title>1</title>\n<ellipse fill=\"none\" stroke=\"#000000\" cx=\"151.0124\" cy=\"-19.6851\" rx=\"27\" ry=\"18\"/>\n<text text-anchor=\"middle\" x=\"151.0124\" y=\"-15.9851\" font-family=\"Times,serif\" font-size=\"14.00\" fill=\"#000000\">1</text>\n</g>\n<!-- 0&#45;&gt;1 -->\n<g id=\"edge3\" class=\"edge\">\n<title>0&#45;&gt;1</title>\n<path fill=\"none\" stroke=\"#000000\" d=\"M116.0226,-19.6851C116.1858,-19.6851 116.3492,-19.6851 116.5126,-19.6851\"/>\n<polygon fill=\"#000000\" stroke=\"#000000\" points=\"113.8946,-23.1852 123.8945,-19.6851 113.8945,-16.1852 113.8946,-23.1852\"/>\n</g>\n<!-- 0&#45;&gt;4 -->\n<g id=\"edge4\" class=\"edge\">\n<title>0&#45;&gt;4</title>\n<path fill=\"none\" stroke=\"#000000\" d=\"M110.9545,-9.1264C122.645,-4.4472 137.4295,0 151.2512,-.0857 161.3544,-.1484 171.9703,-2.579 181.4959,-5.7085\"/>\n<polygon fill=\"#000000\" stroke=\"#000000\" points=\"180.3667,-9.0221 190.9607,-9.1528 182.7605,-2.4441 180.3667,-9.0221\"/>\n</g>\n<!-- 1&#45;&gt;4 -->\n<g id=\"edge6\" class=\"edge\">\n<title>1&#45;&gt;4</title>\n<path fill=\"none\" stroke=\"#000000\" d=\"M178.0288,-19.6851C178.192,-19.6851 178.3554,-19.6851 178.5188,-19.6851\"/>\n<polygon fill=\"#000000\" stroke=\"#000000\" points=\"175.9008,-23.1852 185.9007,-19.6851 175.9007,-16.1852 175.9008,-23.1852\"/>\n</g>\n<!-- 2 -->\n<g id=\"node5\" class=\"node\">\n<title>2</title>\n<ellipse fill=\"none\" stroke=\"#000000\" cx=\"275.0248\" cy=\"-19.6851\" rx=\"27\" ry=\"18\"/>\n<text text-anchor=\"middle\" x=\"275.0248\" y=\"-15.9851\" font-family=\"Times,serif\" font-size=\"14.00\" fill=\"#000000\">2</text>\n</g>\n<!-- 1&#45;&gt;2 -->\n<g id=\"edge5\" class=\"edge\">\n<title>1&#45;&gt;2</title>\n<path fill=\"none\" stroke=\"#000000\" d=\"M173.1234,-30.2597C184.704,-34.8703 199.2809,-39.2509 212.9225,-39.2849 223.0757,-39.3103 233.7477,-36.9059 243.3251,-33.7733\"/>\n<polygon fill=\"#000000\" stroke=\"#000000\" points=\"244.6377,-37.0204 252.842,-30.3166 242.2478,-30.4409 244.6377,-37.0204\"/>\n</g>\n<!-- 5 -->\n<g id=\"node6\" class=\"node\">\n<title>5</title>\n<ellipse fill=\"none\" stroke=\"#000000\" cx=\"337.031\" cy=\"-19.6851\" rx=\"27\" ry=\"18\"/>\n<text text-anchor=\"middle\" x=\"337.031\" y=\"-15.9851\" font-family=\"Times,serif\" font-size=\"14.00\" fill=\"#000000\">5</text>\n</g>\n<!-- 4&#45;&gt;5 -->\n<g id=\"edge7\" class=\"edge\">\n<title>4&#45;&gt;5</title>\n<path fill=\"none\" stroke=\"#000000\" d=\"M235.1051,-30.2402C246.6731,-34.8457 261.2347,-39.2275 274.8631,-39.2847 285.1099,-39.3278 295.8856,-36.8884 305.534,-33.7173\"/>\n<polygon fill=\"#000000\" stroke=\"#000000\" points=\"306.9178,-36.9381 315.1113,-30.2211 304.5174,-30.3625 306.9178,-36.9381\"/>\n</g>\n<!-- 2&#45;&gt;5 -->\n<g id=\"edge8\" class=\"edge\">\n<title>2&#45;&gt;5</title>\n<path fill=\"none\" stroke=\"#000000\" d=\"M302.0412,-19.6851C302.2044,-19.6851 302.3678,-19.6851 302.5312,-19.6851\"/>\n<polygon fill=\"#000000\" stroke=\"#000000\" points=\"299.9132,-23.1852 309.9131,-19.6851 299.9131,-16.1852 299.9132,-23.1852\"/>\n</g>\n</g>\n</svg>\n"
          },
          "metadata": {},
          "execution_count": 53
        }
      ]
    },
    {
      "cell_type": "markdown",
      "metadata": {
        "id": "S354Hcblw5aw"
      },
      "source": [
        "# Transpose Graph\n",
        "\n",
        "Transposition is an operation over a directed graph $G$ that results in another directed graph on the same set of vertices with all of the edges reversed. The following figure illustrates this process, with a graph $G$ on the left side and its transpose $G^T$ on the right side:\n",
        "\n",
        "![Transpose graph](img/Transpose_graph.png \"Transpose Graph\")\n",
        "\n",
        "\n",
        "## Exercise\n",
        "\n",
        "Implement the transpose operation over our graph representation. Take a graph as input and produce its transpose as output."
      ]
    },
    {
      "cell_type": "code",
      "metadata": {
        "id": "N9MVhwOxw5aw"
      },
      "source": [
        "class Graph(Graph):\n",
        "    def transpose(self):\n",
        "        \"\"\"\n",
        "        argument \n",
        "        `G`, an adjacency list representation of a graph\n",
        "        \"\"\"      \n",
        "        gt = dict((v, []) for v in self.adj_list)\n",
        "        # TODO\n",
        "        for v in self.adj_list:\n",
        "            to_v = self.adj_list[v]\n",
        "            for t in to_v:\n",
        "                gt[t].append(v)\n",
        "\n",
        "        return Graph(gt)"
      ],
      "execution_count": 54,
      "outputs": []
    },
    {
      "cell_type": "markdown",
      "metadata": {
        "id": "OR_cdRg4w5ax"
      },
      "source": [
        "Let's write some code for testing. First, we define the same test graph as the figure above. We will call our transpose_graph routine and use the Graphviz library to plot the transposed graph. We have done the code for you below. You can compare the output with the figure above to check if your code is correct."
      ]
    },
    {
      "cell_type": "code",
      "metadata": {
        "colab": {
          "base_uri": "https://localhost:8080/",
          "height": 162
        },
        "id": "mFM57mpSw5ax",
        "outputId": "6ab006e9-3371-44f0-f798-f86849accd07"
      },
      "source": [
        "#######################################\n",
        "# Test code\n",
        "#######################################\n",
        "\n",
        "test_graph = {\n",
        "    0: [3],\n",
        "    1: [0, 4],\n",
        "    2: [1, 4],\n",
        "    3: [1],\n",
        "    4: [3, 5],\n",
        "    5: [2],\n",
        "}\n",
        "\n",
        "pos = {\n",
        "    0: '0,1!',\n",
        "    1: '1,1!',\n",
        "    2: '2,1!',\n",
        "    3: '0,0!',\n",
        "    4: '1,0!',\n",
        "    5: '2,0!',\n",
        "}\n",
        "\n",
        "G = Graph(test_graph)\n",
        "GT = G.transpose()\n",
        "GT.show(positions=pos)"
      ],
      "execution_count": 55,
      "outputs": [
        {
          "output_type": "execute_result",
          "data": {
            "text/plain": [
              "<graphviz.dot.Digraph at 0x7f9373fbb350>"
            ],
            "image/svg+xml": "<?xml version=\"1.0\" encoding=\"UTF-8\" standalone=\"no\"?>\n<!DOCTYPE svg PUBLIC \"-//W3C//DTD SVG 1.1//EN\"\n \"http://www.w3.org/Graphics/SVG/1.1/DTD/svg11.dtd\">\n<!-- Generated by graphviz version 2.40.1 (20161225.0304)\n -->\n<!-- Title: %3 Pages: 1 -->\n<svg width=\"186pt\" height=\"106pt\"\n viewBox=\"0.00 0.00 186.01 106.01\" xmlns=\"http://www.w3.org/2000/svg\" xmlns:xlink=\"http://www.w3.org/1999/xlink\">\n<g id=\"graph0\" class=\"graph\" transform=\"scale(1 1) rotate(0) translate(4 102.0062)\">\n<title>%3</title>\n<polygon fill=\"#ffffff\" stroke=\"transparent\" points=\"-4,4 -4,-102.0062 182.0124,-102.0062 182.0124,4 -4,4\"/>\n<!-- 0 -->\n<g id=\"node1\" class=\"node\">\n<title>0</title>\n<ellipse fill=\"none\" stroke=\"#000000\" cx=\"27\" cy=\"-80.0062\" rx=\"27\" ry=\"18\"/>\n<text text-anchor=\"middle\" x=\"27\" y=\"-76.3062\" font-family=\"Times,serif\" font-size=\"14.00\" fill=\"#000000\">0</text>\n</g>\n<!-- 1 -->\n<g id=\"node2\" class=\"node\">\n<title>1</title>\n<ellipse fill=\"none\" stroke=\"#000000\" cx=\"89.0062\" cy=\"-80.0062\" rx=\"27\" ry=\"18\"/>\n<text text-anchor=\"middle\" x=\"89.0062\" y=\"-76.3062\" font-family=\"Times,serif\" font-size=\"14.00\" fill=\"#000000\">1</text>\n</g>\n<!-- 0&#45;&gt;1 -->\n<g id=\"edge1\" class=\"edge\">\n<title>0&#45;&gt;1</title>\n<path fill=\"none\" stroke=\"#000000\" d=\"M54.0164,-80.0062C54.1796,-80.0062 54.343,-80.0062 54.5064,-80.0062\"/>\n<polygon fill=\"#000000\" stroke=\"#000000\" points=\"51.8884,-83.5063 61.8883,-80.0062 51.8883,-76.5063 51.8884,-83.5063\"/>\n</g>\n<!-- 2 -->\n<g id=\"node3\" class=\"node\">\n<title>2</title>\n<ellipse fill=\"none\" stroke=\"#000000\" cx=\"151.0124\" cy=\"-80.0062\" rx=\"27\" ry=\"18\"/>\n<text text-anchor=\"middle\" x=\"151.0124\" y=\"-76.3062\" font-family=\"Times,serif\" font-size=\"14.00\" fill=\"#000000\">2</text>\n</g>\n<!-- 1&#45;&gt;2 -->\n<g id=\"edge2\" class=\"edge\">\n<title>1&#45;&gt;2</title>\n<path fill=\"none\" stroke=\"#000000\" d=\"M116.0226,-80.0062C116.1858,-80.0062 116.3492,-80.0062 116.5126,-80.0062\"/>\n<polygon fill=\"#000000\" stroke=\"#000000\" points=\"113.8946,-83.5063 123.8945,-80.0062 113.8945,-76.5063 113.8946,-83.5063\"/>\n</g>\n<!-- 3 -->\n<g id=\"node4\" class=\"node\">\n<title>3</title>\n<ellipse fill=\"none\" stroke=\"#000000\" cx=\"27\" cy=\"-18\" rx=\"27\" ry=\"18\"/>\n<text text-anchor=\"middle\" x=\"27\" y=\"-14.3\" font-family=\"Times,serif\" font-size=\"14.00\" fill=\"#000000\">3</text>\n</g>\n<!-- 1&#45;&gt;3 -->\n<g id=\"edge3\" class=\"edge\">\n<title>1&#45;&gt;3</title>\n<path fill=\"none\" stroke=\"#000000\" d=\"M73.9962,-64.9962C66.642,-57.642 57.6344,-48.6344 49.4798,-40.4798\"/>\n<polygon fill=\"#000000\" stroke=\"#000000\" points=\"51.8485,-37.8987 42.3025,-33.3025 46.8987,-42.8485 51.8485,-37.8987\"/>\n</g>\n<!-- 5 -->\n<g id=\"node6\" class=\"node\">\n<title>5</title>\n<ellipse fill=\"none\" stroke=\"#000000\" cx=\"151.0124\" cy=\"-18\" rx=\"27\" ry=\"18\"/>\n<text text-anchor=\"middle\" x=\"151.0124\" y=\"-14.3\" font-family=\"Times,serif\" font-size=\"14.00\" fill=\"#000000\">5</text>\n</g>\n<!-- 2&#45;&gt;5 -->\n<g id=\"edge4\" class=\"edge\">\n<title>2&#45;&gt;5</title>\n<path fill=\"none\" stroke=\"#000000\" d=\"M151.0124,-61.7377C151.0124,-56.9865 151.0124,-51.7523 151.0124,-46.6068\"/>\n<polygon fill=\"#000000\" stroke=\"#000000\" points=\"154.5125,-46.3522 151.0124,-36.3522 147.5125,-46.3523 154.5125,-46.3522\"/>\n</g>\n<!-- 3&#45;&gt;0 -->\n<g id=\"edge5\" class=\"edge\">\n<title>3&#45;&gt;0</title>\n<path fill=\"none\" stroke=\"#000000\" d=\"M27,-36.2685C27,-41.0197 27,-46.2539 27,-51.3994\"/>\n<polygon fill=\"#000000\" stroke=\"#000000\" points=\"23.5001,-51.6539 27,-61.654 30.5001,-51.654 23.5001,-51.6539\"/>\n</g>\n<!-- 4 -->\n<g id=\"node5\" class=\"node\">\n<title>4</title>\n<ellipse fill=\"none\" stroke=\"#000000\" cx=\"89.0062\" cy=\"-18\" rx=\"27\" ry=\"18\"/>\n<text text-anchor=\"middle\" x=\"89.0062\" y=\"-14.3\" font-family=\"Times,serif\" font-size=\"14.00\" fill=\"#000000\">4</text>\n</g>\n<!-- 3&#45;&gt;4 -->\n<g id=\"edge6\" class=\"edge\">\n<title>3&#45;&gt;4</title>\n<path fill=\"none\" stroke=\"#000000\" d=\"M54.0164,-18C54.1796,-18 54.343,-18 54.5064,-18\"/>\n<polygon fill=\"#000000\" stroke=\"#000000\" points=\"51.8884,-21.5001 61.8883,-18 51.8883,-14.5001 51.8884,-21.5001\"/>\n</g>\n<!-- 4&#45;&gt;1 -->\n<g id=\"edge7\" class=\"edge\">\n<title>4&#45;&gt;1</title>\n<path fill=\"none\" stroke=\"#000000\" d=\"M89.0062,-36.2685C89.0062,-41.0197 89.0062,-46.2539 89.0062,-51.3994\"/>\n<polygon fill=\"#000000\" stroke=\"#000000\" points=\"85.5063,-51.6539 89.0062,-61.654 92.5063,-51.654 85.5063,-51.6539\"/>\n</g>\n<!-- 4&#45;&gt;2 -->\n<g id=\"edge8\" class=\"edge\">\n<title>4&#45;&gt;2</title>\n<path fill=\"none\" stroke=\"#000000\" d=\"M104.0162,-33.01C111.3704,-40.3642 120.378,-49.3718 128.5326,-57.5264\"/>\n<polygon fill=\"#000000\" stroke=\"#000000\" points=\"126.1639,-60.1075 135.7099,-64.7037 131.1137,-55.1577 126.1639,-60.1075\"/>\n</g>\n<!-- 5&#45;&gt;4 -->\n<g id=\"edge9\" class=\"edge\">\n<title>5&#45;&gt;4</title>\n<path fill=\"none\" stroke=\"#000000\" d=\"M123.996,-18C123.8328,-18 123.6694,-18 123.506,-18\"/>\n<polygon fill=\"#000000\" stroke=\"#000000\" points=\"126.1241,-14.5001 116.1241,-18 126.124,-21.5001 126.1241,-14.5001\"/>\n</g>\n</g>\n</svg>\n"
          },
          "metadata": {},
          "execution_count": 55
        }
      ]
    },
    {
      "cell_type": "markdown",
      "metadata": {
        "id": "A9LyqMjXw5ax"
      },
      "source": [
        "# Minimum Spanning Trees\n",
        "\n",
        "Minimum spanning tree (MST) is an operation on weighted undirected graphs. We receive a graph $G=(V,E)$ and we should return the spanning tree of $G$ that has a minimum cost.\n",
        "\n",
        "A spanning tree is a graph with the same set of vertices $V$ of $G$, but with potentially fewer edges. A spanning tree is a graph with no cycles. If $G$ has $n$ edges, its spanning tree must have $n-1$ edges.\n",
        "\n",
        "The minimum spanning tree is the spanning tree whose sum of edge weights is the smallest among all spanning trees.\n",
        "\n",
        "The next figure shows a weighted undirect graph is its corresponding MST.\n",
        "\n",
        "![MST](img/spanning_tree.png \"MST\")"
      ]
    },
    {
      "cell_type": "markdown",
      "metadata": {
        "id": "jwXuXsXXw5ax"
      },
      "source": [
        "Let's start by augmenting our graph representation to allow weighted edges, and adding methods to allow us to easily add nodes and edges to the graph. For later convenience, we will also add functions to remove nodes, iterate over all nodes, and get the children of a node. "
      ]
    },
    {
      "cell_type": "code",
      "metadata": {
        "id": "-FKEQ2dLw5ax"
      },
      "source": [
        "class Graph(Graph):\n",
        "    def __init__(self, adj_list=None):\n",
        "        self.adj_list = dict()\n",
        "        if adj_list is not None:\n",
        "            self.adj_list = adj_list.copy() # dict with graph's adjacency list\n",
        "        self.colour = dict()\n",
        "        self.edge_weights = dict() # maps a tuple (node1, node2) to a number\n",
        "\n",
        "    def __len__(self):\n",
        "        '''\n",
        "        return the number of nodes in the graph\n",
        "        '''\n",
        "        return len(self.adj_list.keys())\n",
        "\n",
        "    def __iter__(self):\n",
        "        '''\n",
        "        Let a user iterate over the nodes of the graph, like:\n",
        "        for node in graph:\n",
        "            print(node)\n",
        "        '''\n",
        "        return iter(self.adj_list.keys())\n",
        "    \n",
        "    def children(self, node):\n",
        "        '''\n",
        "        Return a list of children of a node\n",
        "        '''\n",
        "        return self.adj_list[node]\n",
        "\n",
        "    def add_node(self, name):\n",
        "        '''\n",
        "        This method adds a node to the graph.\n",
        "        '''\n",
        "        if name not in self.adj_list:\n",
        "            self.adj_list[name] = []\n",
        "\n",
        "    def remove_node(self, name):\n",
        "        '''\n",
        "        This method removes a node, and any edges to or from the node\n",
        "        '''\n",
        "        for node in self.adj_list.keys():\n",
        "            if name in self.adj_list[node]:\n",
        "                self.adj_list[node].remove(name)\n",
        "        del self.adj_list[name]\n",
        "\n",
        "    def add_edge(self, node1, node2, weight=1, directed=True):\n",
        "        '''\n",
        "        This function adds an edge. If directed is false, it adds an edge in both directions\n",
        "        '''\n",
        "        # in case they don't already exist, add these nodes to the graph\n",
        "        self.add_node(node1)\n",
        "        self.add_node(node2)\n",
        "        \n",
        "        self.adj_list[node1].append(node2)\n",
        "        self.edge_weights[(node1,node2)] = weight\n",
        "        \n",
        "        if not directed:\n",
        "            self.adj_list[node2].append(node1)\n",
        "            self.edge_weights[(node2,node1)] = weight\n",
        "\n",
        "# Reinitialise graph G\n",
        "G = Graph(graph)\n",
        "\n",
        "### Example usage\n",
        "print(f\"The number of nodes in the graph is {len(G)}\")\n",
        "\n",
        "print(\"List of all nodes in the graph:\")\n",
        "for node in G:\n",
        "    print(node)\n",
        "    \n",
        "# check if 0 is a child of 1\n",
        "if 0 in G.children(1):\n",
        "    print(\"0 is child of 1\")\n",
        "else:\n",
        "    print(\"0 is not child of 1\")\n",
        "\n",
        "print(f\"Children of 1 are {G.children(1)}\")\n"
      ],
      "execution_count": null,
      "outputs": []
    },
    {
      "cell_type": "markdown",
      "metadata": {
        "id": "nXXe5_G7w5ax"
      },
      "source": [
        "\n",
        "## Exercise\n",
        "\n",
        "Represent the graph on the left side of the previous figure using the proposed augmented representation. We have started and completed the first row."
      ]
    },
    {
      "cell_type": "code",
      "metadata": {
        "id": "cw58uZ2Lw5ay"
      },
      "source": [
        "g = Graph()\n",
        "g.add_edge(0,2,weight=4,directed=False)\n",
        "g.add_edge(0,1,weight=24,directed=False)\n",
        "g.add_edge(2,3,weight=6,directed=False)\n",
        "g.add_edge(2,6,weight=16,directed=False)\n",
        "g.add_edge(3,6,weight=8,directed=False)\n",
        "g.add_edge(3,5,weight=5,directed=False)\n",
        "g.add_edge(3,1,weight=23,directed=False)\n",
        "# TODO: add the rest of the edges\n",
        "...\n",
        "\n",
        "#######################################\n",
        "# Test code\n",
        "#######################################\n",
        "pos = {\n",
        "    0: '1,3!',\n",
        "    1: '4,3!',\n",
        "    2: '0,2!',\n",
        "    3: '1,1!',\n",
        "    4: '3,1!',\n",
        "    5: '2,1!',\n",
        "    6: '0,0!',\n",
        "    7: '4,0!',    \n",
        "}\n",
        "g.show(directed=False, positions=pos)"
      ],
      "execution_count": null,
      "outputs": []
    },
    {
      "cell_type": "markdown",
      "metadata": {
        "id": "ANxbrqYVw5ay"
      },
      "source": [
        "## Exercise\n",
        "\n",
        "Now, let's implement the Prim algorithm. The general idea is to start the search from a node `s`. Initially, only nodes directly connected to `s` are considered. We use a priority queue to sort these nodes according to the edge weight. The priority queue is implementated with a binary heap data structure using Python's [heapq](https://docs.python.org/3/library/heapq.html) module. The node `u` with the smallest cost connecting to `s` is removed from the priority queue and inserted into the MST. The search expands to include the vertices that directly connect to `u`. These nodes are inserted into the priority queue, and the procedure repeats according to the following algorithm:\n",
        "\n",
        "![Prim](img/Prim.png \"MST\")\n",
        "\n",
        "Notice that `S` maintains the nodes currently in the MST. It is crucial to avoid inserting the same node twice since it would create a cycle. \n",
        "\n",
        "We have created a stub for you. You need to complete the gaps where there is an ellipsis."
      ]
    },
    {
      "cell_type": "code",
      "metadata": {
        "id": "fSbRGwMvw5ay"
      },
      "source": [
        "class Graph(Graph):\n",
        "    def prim(self, start):\n",
        "        \"\"\"\n",
        "        argument \n",
        "        `start`, start vertex\n",
        "        \"\"\"      \n",
        "        # Intialise set 'visited' with vertex s\n",
        "        visited = ...\n",
        "        # Initialise priority queue Q with an empty list\n",
        "        Q = ...\n",
        "        # Initilise list tree with empty Graph object. This object will have the MST at the end of the execution\n",
        "        tree = ...\n",
        "        # Initialise the priority queue Q with outgoing edges from s\n",
        "        for e in self.adj_list[start]:\n",
        "            # There is a trick here. Python prioriy queues accept tuples but the first entry of the tuple must be the priority value\n",
        "            pq.heappush(Q, ...)\n",
        "        while len(Q) > 0:\n",
        "            # Remove element from Q with the smallest weight\n",
        "            weight, v, u = pq.heappop(Q)\n",
        "            # If the node is already in 'visited' we cannot include it in the MST since it would create a cycle\n",
        "            if u not in visited:\n",
        "                # Let's grow the MST by inserting the vertex in visited\n",
        "                ...\n",
        "                # Also we insert the edge in tree\n",
        "                ...\n",
        "                # We iterate over all outgoing edges of u\n",
        "                for e in self.adj_list[u]:\n",
        "                    # We are interested in edges that connect to vertices not in 'visited' and with smaller weight than known values stored in a\n",
        "                    if e not in visited:\n",
        "                        # Edge e is of interest, let's store in the priority queue for future analysis\n",
        "                        pq.heappush(Q, ...)        \n",
        "        return tree\n",
        "        \n",
        "#######################################\n",
        "# Test code\n",
        "#######################################\n",
        "g = Graph()\n",
        "g.add_edge(0,2,weight=4,directed=False)\n",
        "g.add_edge(0,1,weight=24,directed=False)\n",
        "g.add_edge(2,3,weight=6,directed=False)\n",
        "g.add_edge(2,6,weight=16,directed=False)\n",
        "g.add_edge(3,6,weight=8,directed=False)\n",
        "g.add_edge(3,5,weight=5,directed=False)\n",
        "g.add_edge(3,1,weight=23,directed=False)\n",
        "# TODO: copy the rest of the edges from above\n",
        "...\n",
        "\n",
        "tree = g.prim(0)\n",
        "print(tree.edge_weights)\n",
        "tree.show()"
      ],
      "execution_count": null,
      "outputs": []
    },
    {
      "cell_type": "markdown",
      "metadata": {
        "id": "_zpdeZHxw5ay"
      },
      "source": [
        "If your algorithm is correct, you should see the following output:\n",
        "```\n",
        "{(0, 2): 4, (2, 3): 6, (3, 5): 5, (3, 6): 8, (5, 4): 11, (4, 7): 7, (4, 1): 9}\n",
        "```\n",
        "\n",
        "You can compare it to the figure to confirm it is correct."
      ]
    },
    {
      "cell_type": "markdown",
      "metadata": {
        "id": "8Evikexlw5ay"
      },
      "source": [
        "## Final Task\n",
        "\n",
        "Create a python file called Graph.py containing the Graph class we implemented above. This will be used in future tutorials."
      ]
    },
    {
      "cell_type": "markdown",
      "metadata": {
        "id": "hF32VXfaw5ay"
      },
      "source": [
        "# Extensions\n",
        "\n",
        "We could implement some additional functions such as:\n",
        "1. Use the graph transpose routine to implement the Kosaraju's algorithm as we discussed in the theory part of this tutorial. \n",
        "\n",
        "2. Change the Prim algorithm to find the *Maximal* Spanning Tree. Such implementation could be achieved by replacing the min-heap by a max-heap.\n",
        "\n",
        "That is all for today. Next week we will develop some code to store and manipulate probability tables."
      ]
    }
  ]
}